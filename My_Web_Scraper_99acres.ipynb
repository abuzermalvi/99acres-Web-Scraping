{
 "cells": [
  {
   "cell_type": "code",
   "execution_count": 205,
   "metadata": {},
   "outputs": [],
   "source": [
    "from bs4 import BeautifulSoup\n",
    "import requests\n",
    "from selenium import webdriver\n",
    "import pandas as pd"
   ]
  },
  {
   "cell_type": "code",
   "execution_count": 206,
   "metadata": {},
   "outputs": [],
   "source": [
    "driver = webdriver.Chrome('C:/Program Files (x86)/Google/Chrome/Application/chromedriver')"
   ]
  },
  {
   "cell_type": "code",
   "execution_count": 207,
   "metadata": {},
   "outputs": [],
   "source": [
    "driver.get('https://www.99acres.com/search/property/buy/bandra-west-mumbai-south-west?city=17&locality=4931&preference=S&area_unit=1&budget_min=0&res_com=R')"
   ]
  },
  {
   "cell_type": "code",
   "execution_count": 208,
   "metadata": {},
   "outputs": [],
   "source": [
    "content = driver.page_source\n",
    "soup = BeautifulSoup(content)\n",
    "results =  soup.findAll('div', attrs = {'class' : 'pageComponent srpTuple__srpTupleBox srp'})\n",
    "\n",
    "Configuration = []\n",
    "Description = []\n",
    "Location_Bldng_name = []\n",
    "Seller_name = []\n",
    "Price = []\n",
    "Price_unit = []\n",
    "Area = []\n",
    "Type_area = []\n",
    "\n",
    "for row in results:\n",
    "\n",
    "    Configuration.append(row.h2.text)\n",
    "\n",
    "    Location_Bldng_name.append(row.find('td', attrs = {'class' : 'list_header_bold srpTuple__spacer10'}).get_text())\n",
    "\n",
    "    Seller_name.append(row.find('div', attrs = {'class' : 'list_header_semiBold'}).get_text())\n",
    "\n",
    "    Description.append(row.find('div', attrs = {'class' : 'srpTuple__descMore body_med'}).get_text())\n",
    "\n",
    "    Type_area.append(row.find('div', attrs = {'class' : 'caption_subdued_small',\n",
    "                                              'id' : 'srp_tuple_secondary_area'}).get_text())\n",
    "\n",
    "    Price.append(row.find('td', attrs = {'class' : 'srpTuple__midGrid title_semiBold srpTuple__spacer16',\n",
    "                                         'id' : 'srp_tuple_price'}).text[0:5])\n",
    "\n",
    "    Price_unit.append(row.find('td', attrs = {'class' : 'srpTuple__midGrid title_semiBold srpTuple__spacer16',\n",
    "                                         'id' : 'srp_tuple_price'}).text[4:8])\n",
    "\n",
    "    Area.append(row.find('td', attrs = {'class' : 'srpTuple__midGrid title_semiBold srpTuple__spacer16',\n",
    "                                        'id' : 'srp_tuple_primary_area'}).text[0:11])\n"
   ]
  },
  {
   "cell_type": "code",
   "execution_count": 209,
   "metadata": {},
   "outputs": [],
   "source": [
    "df = pd.DataFrame({\n",
    "    'Configuration' : Configuration,\n",
    "    'Location/Bldng_name' : Location_Bldng_name,\n",
    "    'Seller Name' : Seller_name,\n",
    "    'Description' : Description,\n",
    "    'Area' : Area,\n",
    "    'Area type' : Type_area,\n",
    "    'Price' : Price,\n",
    "    'Price Unit' : Price_unit\n",
    "})"
   ]
  },
  {
   "cell_type": "code",
   "execution_count": 210,
   "metadata": {},
   "outputs": [],
   "source": [
    "df.to_csv(r'C:/Users/abuze/Great Lakes/web_scrapper_99acres/99acres_BandraWest_Data.csv', index = False)"
   ]
  }
 ],
 "metadata": {
  "kernelspec": {
   "display_name": "Python 3",
   "language": "python",
   "name": "python3"
  },
  "language_info": {
   "codemirror_mode": {
    "name": "ipython",
    "version": 3
   },
   "file_extension": ".py",
   "mimetype": "text/x-python",
   "name": "python",
   "nbconvert_exporter": "python",
   "pygments_lexer": "ipython3",
   "version": "3.7.4"
  }
 },
 "nbformat": 4,
 "nbformat_minor": 2
}
